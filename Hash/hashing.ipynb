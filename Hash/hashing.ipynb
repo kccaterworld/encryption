{
 "cells": [
  {
   "cell_type": "markdown",
   "id": "d6eda053",
   "metadata": {},
   "source": [
    "# hashing.ipynb\n",
    "## Creator: kccaterworld\n",
    "## Contributors: kccaterworld\n",
    "### Status: Unfinished, Stable (Techically)"
   ]
  },
  {
   "cell_type": "code",
   "execution_count": null,
   "id": "a0dbea16",
   "metadata": {},
   "outputs": [],
   "source": [
    "def md5(plaintext):\n",
    "    ...\n",
    "\n",
    "def sha1(plaintext):\n",
    "    ...\n",
    "\n",
    "def sha256(plaintext):\n",
    "    ..."
   ]
  }
 ],
 "metadata": {
  "language_info": {
   "name": "python"
  }
 },
 "nbformat": 4,
 "nbformat_minor": 5
}
